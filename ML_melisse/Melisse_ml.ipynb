{
 "cells": [
  {
   "cell_type": "code",
   "execution_count": 60,
   "metadata": {},
   "outputs": [],
   "source": [
    "import pandas as pd\n",
    "from sklearn.model_selection import train_test_split\n",
    "from sklearn.ensemble import RandomForestClassifier\n",
    "from sklearn.feature_extraction.text import CountVectorizer\n",
    "import pickle\n",
    "\n",
    "# Cargar los datos\n",
    "df = pd.read_csv('yelp_reviews_limpio_etiquetado.csv')\n",
    "\n",
    "# Definir categorías y sus palabras clave\n",
    "categories = {\n",
    "    'speed': ['fast', 'quick', 'speed', 'slow', 'waiting', 'delay'],\n",
    "    'variety': ['variety', 'selection', 'options', 'choices', 'range'],\n",
    "    'vegetarian': ['vegetarian', 'vegan', 'plant-based', 'meat-free'],\n",
    "    'taste': ['taste', 'flavor', 'delicious', 'tasty', 'savor'],\n",
    "    'quantity': ['portion', 'size', 'amount', 'quantity', 'enough'],\n",
    "    'presentation': ['presentation', 'plating', 'look', 'visual', 'aesthetic'],\n",
    "    'desserts': ['dessert', 'sweet', 'cake', 'pastry', 'ice cream', 'pudding']\n",
    "}\n",
    "\n",
    "# Función para categorizar las reseñas\n",
    "def categorize_review(review):\n",
    "    for category, keywords in categories.items():\n",
    "        if any(keyword in review.lower() for keyword in keywords):\n",
    "            return category\n",
    "    return 'other'\n",
    "\n",
    "# Aplicar la función de categorización\n",
    "df['category'] = df['review_text'].apply(categorize_review)\n",
    "\n",
    "# Vectorización de las reseñas\n",
    "vectorizer = CountVectorizer()\n",
    "X = vectorizer.fit_transform(df['review_text'])\n",
    "y = df['category']\n",
    "\n",
    "# Dividir los datos en conjuntos de entrenamiento y prueba\n",
    "X_train, X_test, y_train, y_test = train_test_split(X, y, test_size=0.2, random_state=42)\n",
    "\n",
    "# Entrenar el modelo\n",
    "model = RandomForestClassifier()\n",
    "model.fit(X_train, y_train)\n",
    "\n",
    "# Guardar el modelo y el vectorizador\n",
    "with open('model.pkl', 'wb') as model_file:\n",
    "    pickle.dump(model, model_file)\n",
    "\n",
    "with open('vectorizer.pkl', 'wb') as vectorizer_file:\n",
    "    pickle.dump(vectorizer, vectorizer_file)\n"
   ]
  }
 ],
 "metadata": {
  "kernelspec": {
   "display_name": "Python 3",
   "language": "python",
   "name": "python3"
  },
  "language_info": {
   "codemirror_mode": {
    "name": "ipython",
    "version": 3
   },
   "file_extension": ".py",
   "mimetype": "text/x-python",
   "name": "python",
   "nbconvert_exporter": "python",
   "pygments_lexer": "ipython3",
   "version": "3.12.1"
  }
 },
 "nbformat": 4,
 "nbformat_minor": 2
}
